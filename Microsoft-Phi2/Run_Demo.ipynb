{
  "cells": [
    {
      "cell_type": "markdown",
      "metadata": {
        "id": "GuP_JUdbUvYV"
      },
      "source": [
        "Cấu trúc file để chạy (mục Folder Mistral Github)"
      ]
    },
    {
      "cell_type": "markdown",
      "source": [
        "![Screenshot 2025-06-07 144436.png](data:image/png;base64,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)"
      ],
      "metadata": {
        "id": "SEv90K62WXBl"
      }
    },
    {
      "cell_type": "code",
      "source": [
        "import torch\n",
        "import gc\n",
        "\n",
        "torch.cuda.empty_cache()\n",
        "torch.cuda.ipc_collect()\n",
        "gc.collect()\n"
      ],
      "metadata": {
        "colab": {
          "base_uri": "https://localhost:8080/"
        },
        "id": "V7n4okjNhpKc",
        "outputId": "fae4dd9f-248c-4edc-9348-efa292a9bae7"
      },
      "execution_count": 12,
      "outputs": [
        {
          "output_type": "execute_result",
          "data": {
            "text/plain": [
              "85"
            ]
          },
          "metadata": {},
          "execution_count": 12
        }
      ]
    },
    {
      "cell_type": "code",
      "execution_count": null,
      "metadata": {
        "colab": {
          "base_uri": "https://localhost:8080/"
        },
        "id": "bZKbeIokprH-",
        "outputId": "938c7ce2-b186-4600-fae1-03f9598ba1ef"
      },
      "outputs": [
        {
          "output_type": "stream",
          "name": "stdout",
          "text": [
            "Collecting overrides\n",
            "  Downloading overrides-7.7.0-py3-none-any.whl.metadata (5.8 kB)\n",
            "Downloading overrides-7.7.0-py3-none-any.whl (17 kB)\n",
            "Installing collected packages: overrides\n",
            "Successfully installed overrides-7.7.0\n"
          ]
        }
      ],
      "source": [
        "pip install overrides"
      ]
    },
    {
      "cell_type": "code",
      "execution_count": null,
      "metadata": {
        "colab": {
          "base_uri": "https://localhost:8080/"
        },
        "id": "XBIrVoy2DXAk",
        "outputId": "9d9d1866-5432-4945-b709-02c4370c6d85"
      },
      "outputs": [
        {
          "output_type": "stream",
          "name": "stdout",
          "text": [
            "Collecting streamlit\n",
            "  Downloading streamlit-1.45.1-py3-none-any.whl.metadata (8.9 kB)\n",
            "Requirement already satisfied: altair<6,>=4.0 in /usr/local/lib/python3.11/dist-packages (from streamlit) (5.5.0)\n",
            "Requirement already satisfied: blinker<2,>=1.5.0 in /usr/local/lib/python3.11/dist-packages (from streamlit) (1.9.0)\n",
            "Requirement already satisfied: cachetools<6,>=4.0 in /usr/local/lib/python3.11/dist-packages (from streamlit) (5.5.2)\n",
            "Requirement already satisfied: click<9,>=7.0 in /usr/local/lib/python3.11/dist-packages (from streamlit) (8.2.1)\n",
            "Requirement already satisfied: numpy<3,>=1.23 in /usr/local/lib/python3.11/dist-packages (from streamlit) (2.0.2)\n",
            "Requirement already satisfied: packaging<25,>=20 in /usr/local/lib/python3.11/dist-packages (from streamlit) (24.2)\n",
            "Requirement already satisfied: pandas<3,>=1.4.0 in /usr/local/lib/python3.11/dist-packages (from streamlit) (2.2.2)\n",
            "Requirement already satisfied: pillow<12,>=7.1.0 in /usr/local/lib/python3.11/dist-packages (from streamlit) (11.2.1)\n",
            "Requirement already satisfied: protobuf<7,>=3.20 in /usr/local/lib/python3.11/dist-packages (from streamlit) (5.29.5)\n",
            "Requirement already satisfied: pyarrow>=7.0 in /usr/local/lib/python3.11/dist-packages (from streamlit) (18.1.0)\n",
            "Requirement already satisfied: requests<3,>=2.27 in /usr/local/lib/python3.11/dist-packages (from streamlit) (2.32.3)\n",
            "Requirement already satisfied: tenacity<10,>=8.1.0 in /usr/local/lib/python3.11/dist-packages (from streamlit) (9.1.2)\n",
            "Requirement already satisfied: toml<2,>=0.10.1 in /usr/local/lib/python3.11/dist-packages (from streamlit) (0.10.2)\n",
            "Requirement already satisfied: typing-extensions<5,>=4.4.0 in /usr/local/lib/python3.11/dist-packages (from streamlit) (4.14.0)\n",
            "Collecting watchdog<7,>=2.1.5 (from streamlit)\n",
            "  Downloading watchdog-6.0.0-py3-none-manylinux2014_x86_64.whl.metadata (44 kB)\n",
            "\u001b[2K     \u001b[90m━━━━━━━━━━━━━━━━━━━━━━━━━━━━━━━━━━━━━━━━\u001b[0m \u001b[32m44.3/44.3 kB\u001b[0m \u001b[31m3.5 MB/s\u001b[0m eta \u001b[36m0:00:00\u001b[0m\n",
            "\u001b[?25hRequirement already satisfied: gitpython!=3.1.19,<4,>=3.0.7 in /usr/local/lib/python3.11/dist-packages (from streamlit) (3.1.44)\n",
            "Collecting pydeck<1,>=0.8.0b4 (from streamlit)\n",
            "  Downloading pydeck-0.9.1-py2.py3-none-any.whl.metadata (4.1 kB)\n",
            "Requirement already satisfied: tornado<7,>=6.0.3 in /usr/local/lib/python3.11/dist-packages (from streamlit) (6.4.2)\n",
            "Requirement already satisfied: jinja2 in /usr/local/lib/python3.11/dist-packages (from altair<6,>=4.0->streamlit) (3.1.6)\n",
            "Requirement already satisfied: jsonschema>=3.0 in /usr/local/lib/python3.11/dist-packages (from altair<6,>=4.0->streamlit) (4.24.0)\n",
            "Requirement already satisfied: narwhals>=1.14.2 in /usr/local/lib/python3.11/dist-packages (from altair<6,>=4.0->streamlit) (1.41.0)\n",
            "Requirement already satisfied: gitdb<5,>=4.0.1 in /usr/local/lib/python3.11/dist-packages (from gitpython!=3.1.19,<4,>=3.0.7->streamlit) (4.0.12)\n",
            "Requirement already satisfied: python-dateutil>=2.8.2 in /usr/local/lib/python3.11/dist-packages (from pandas<3,>=1.4.0->streamlit) (2.9.0.post0)\n",
            "Requirement already satisfied: pytz>=2020.1 in /usr/local/lib/python3.11/dist-packages (from pandas<3,>=1.4.0->streamlit) (2025.2)\n",
            "Requirement already satisfied: tzdata>=2022.7 in /usr/local/lib/python3.11/dist-packages (from pandas<3,>=1.4.0->streamlit) (2025.2)\n",
            "Requirement already satisfied: charset-normalizer<4,>=2 in /usr/local/lib/python3.11/dist-packages (from requests<3,>=2.27->streamlit) (3.4.2)\n",
            "Requirement already satisfied: idna<4,>=2.5 in /usr/local/lib/python3.11/dist-packages (from requests<3,>=2.27->streamlit) (3.10)\n",
            "Requirement already satisfied: urllib3<3,>=1.21.1 in /usr/local/lib/python3.11/dist-packages (from requests<3,>=2.27->streamlit) (2.4.0)\n",
            "Requirement already satisfied: certifi>=2017.4.17 in /usr/local/lib/python3.11/dist-packages (from requests<3,>=2.27->streamlit) (2025.4.26)\n",
            "Requirement already satisfied: smmap<6,>=3.0.1 in /usr/local/lib/python3.11/dist-packages (from gitdb<5,>=4.0.1->gitpython!=3.1.19,<4,>=3.0.7->streamlit) (5.0.2)\n",
            "Requirement already satisfied: MarkupSafe>=2.0 in /usr/local/lib/python3.11/dist-packages (from jinja2->altair<6,>=4.0->streamlit) (3.0.2)\n",
            "Requirement already satisfied: attrs>=22.2.0 in /usr/local/lib/python3.11/dist-packages (from jsonschema>=3.0->altair<6,>=4.0->streamlit) (25.3.0)\n",
            "Requirement already satisfied: jsonschema-specifications>=2023.03.6 in /usr/local/lib/python3.11/dist-packages (from jsonschema>=3.0->altair<6,>=4.0->streamlit) (2025.4.1)\n",
            "Requirement already satisfied: referencing>=0.28.4 in /usr/local/lib/python3.11/dist-packages (from jsonschema>=3.0->altair<6,>=4.0->streamlit) (0.36.2)\n",
            "Requirement already satisfied: rpds-py>=0.7.1 in /usr/local/lib/python3.11/dist-packages (from jsonschema>=3.0->altair<6,>=4.0->streamlit) (0.25.1)\n",
            "Requirement already satisfied: six>=1.5 in /usr/local/lib/python3.11/dist-packages (from python-dateutil>=2.8.2->pandas<3,>=1.4.0->streamlit) (1.17.0)\n",
            "Downloading streamlit-1.45.1-py3-none-any.whl (9.9 MB)\n",
            "\u001b[2K   \u001b[90m━━━━━━━━━━━━━━━━━━━━━━━━━━━━━━━━━━━━━━━━\u001b[0m \u001b[32m9.9/9.9 MB\u001b[0m \u001b[31m79.1 MB/s\u001b[0m eta \u001b[36m0:00:00\u001b[0m\n",
            "\u001b[?25hDownloading pydeck-0.9.1-py2.py3-none-any.whl (6.9 MB)\n",
            "\u001b[2K   \u001b[90m━━━━━━━━━━━━━━━━━━━━━━━━━━━━━━━━━━━━━━━━\u001b[0m \u001b[32m6.9/6.9 MB\u001b[0m \u001b[31m98.6 MB/s\u001b[0m eta \u001b[36m0:00:00\u001b[0m\n",
            "\u001b[?25hDownloading watchdog-6.0.0-py3-none-manylinux2014_x86_64.whl (79 kB)\n",
            "\u001b[2K   \u001b[90m━━━━━━━━━━━━━━━━━━━━━━━━━━━━━━━━━━━━━━━━\u001b[0m \u001b[32m79.1/79.1 kB\u001b[0m \u001b[31m8.5 MB/s\u001b[0m eta \u001b[36m0:00:00\u001b[0m\n",
            "\u001b[?25hInstalling collected packages: watchdog, pydeck, streamlit\n",
            "Successfully installed pydeck-0.9.1 streamlit-1.45.1 watchdog-6.0.0\n",
            "\u001b[1G\u001b[0K⠙\u001b[1G\u001b[0K⠹\u001b[1G\u001b[0K⠸\u001b[1G\u001b[0K⠼\u001b[1G\u001b[0K⠴\u001b[1G\u001b[0K⠦\u001b[1G\u001b[0K⠧\u001b[1G\u001b[0K⠇\u001b[1G\u001b[0K⠏\u001b[1G\u001b[0K⠋\u001b[1G\u001b[0K⠙\u001b[1G\u001b[0K⠹\u001b[1G\u001b[0K⠸\u001b[1G\u001b[0K⠼\u001b[1G\u001b[0K⠴\u001b[1G\u001b[0K⠦\u001b[1G\u001b[0K⠧\u001b[1G\u001b[0K⠇\u001b[1G\u001b[0K\n",
            "added 22 packages in 2s\n",
            "\u001b[1G\u001b[0K⠇\u001b[1G\u001b[0K\n",
            "\u001b[1G\u001b[0K⠇\u001b[1G\u001b[0K3 packages are looking for funding\n",
            "\u001b[1G\u001b[0K⠇\u001b[1G\u001b[0K  run `npm fund` for details\n",
            "\u001b[1G\u001b[0K⠇\u001b[1G\u001b[0K"
          ]
        }
      ],
      "source": [
        "!pip install streamlit\n",
        "!npm install -g localtunnel\n"
      ]
    },
    {
      "cell_type": "code",
      "execution_count": 11,
      "metadata": {
        "id": "-LWMkqS2HdQt",
        "colab": {
          "base_uri": "https://localhost:8080/"
        },
        "outputId": "9d1918f0-0ef6-4b8d-c1e3-5cc51e5148e9"
      },
      "outputs": [
        {
          "output_type": "stream",
          "name": "stdout",
          "text": [
            "34.125.175.44"
          ]
        }
      ],
      "source": [
        "!curl https://loca.lt/mytunnelpassword"
      ]
    },
    {
      "cell_type": "markdown",
      "metadata": {
        "id": "GqeSwl5dUVLM"
      },
      "source": [
        "Nhập mk vào link"
      ]
    },
    {
      "cell_type": "code",
      "source": [
        "!git clone https://github.com/bokuwakira1411/Final-project-DL.git\n"
      ],
      "metadata": {
        "colab": {
          "base_uri": "https://localhost:8080/"
        },
        "id": "rByAm3bNRb0j",
        "outputId": "e0d9c72d-8c1b-4368-9fd0-3fe016c27cb6"
      },
      "execution_count": null,
      "outputs": [
        {
          "output_type": "stream",
          "name": "stdout",
          "text": [
            "Cloning into 'Final-project-DL'...\n",
            "remote: Enumerating objects: 359, done.\u001b[K\n",
            "remote: Counting objects: 100% (127/127), done.\u001b[K\n",
            "remote: Compressing objects: 100% (115/115), done.\u001b[K\n",
            "remote: Total 359 (delta 83), reused 14 (delta 12), pack-reused 232 (from 1)\u001b[K\n",
            "Receiving objects: 100% (359/359), 5.09 MiB | 3.92 MiB/s, done.\n",
            "Resolving deltas: 100% (203/203), done.\n"
          ]
        }
      ]
    },
    {
      "cell_type": "code",
      "source": [
        "# !pip install -q streamlit cloudflared"
      ],
      "metadata": {
        "id": "CMoaXlQgRjNC"
      },
      "execution_count": null,
      "outputs": []
    },
    {
      "cell_type": "code",
      "source": [
        "# import subprocess\n",
        "# import threading\n",
        "# import time\n",
        "\n",
        "# def run_streamlit():\n",
        "#     subprocess.Popen([\"streamlit\", \"run\", \"Demo.py\", \"--server.port\", \"8502\"])\n",
        "\n",
        "# def run_cloudflared():\n",
        "#     time.sleep(5)\n",
        "#     print(\"Khởi tạo\")\n",
        "#     output = subprocess.check_output([\"cloudflared\", \"tunnel\", \"--url\", \"http://localhost:8502\", \"--no-autoupdate\"], stderr=subprocess.STDOUT)\n",
        "#     print(\"Link\")\n",
        "#     for line in output.decode().split(\"\\n\"):\n",
        "#         if \"trycloudflare.com\" in line:\n",
        "#             print(line.strip())\n",
        "\n",
        "# threading.Thread(target=run_streamlit).start()\n",
        "# threading.Thread(target=run_cloudflared).start()\n"
      ],
      "metadata": {
        "id": "_m5qa10-Sr1p"
      },
      "execution_count": null,
      "outputs": []
    },
    {
      "cell_type": "code",
      "source": [
        "# !wget -q https://github.com/cloudflare/cloudflared/releases/latest/download/cloudflared-linux-amd64 -O cloudflared\n",
        "# !chmod +x cloudflared\n",
        "# !mv cloudflared /usr/local/bin/\n"
      ],
      "metadata": {
        "id": "nL9GiXIeSyf2"
      },
      "execution_count": null,
      "outputs": []
    },
    {
      "cell_type": "code",
      "source": [
        "# !which cloudflared\n"
      ],
      "metadata": {
        "colab": {
          "base_uri": "https://localhost:8080/"
        },
        "id": "3m-Gr0QGS6ag",
        "outputId": "3129ebb1-f941-40a1-c5bd-048e83b18d27"
      },
      "execution_count": null,
      "outputs": [
        {
          "output_type": "stream",
          "name": "stdout",
          "text": [
            "/usr/local/bin/cloudflared\n"
          ]
        }
      ]
    },
    {
      "cell_type": "code",
      "source": [],
      "metadata": {
        "id": "qfii6S-zqCuT"
      },
      "execution_count": null,
      "outputs": []
    },
    {
      "cell_type": "code",
      "source": [
        "import os\n",
        "\n",
        "os.chdir(\"/content\")\n"
      ],
      "metadata": {
        "id": "2R0k_zHkm98d"
      },
      "execution_count": null,
      "outputs": []
    },
    {
      "cell_type": "code",
      "source": [
        "\n",
        "!streamlit run Demo.py & npx localtunnel --port 8501"
      ],
      "metadata": {
        "colab": {
          "base_uri": "https://localhost:8080/"
        },
        "id": "KMfr3QfxbRqS",
        "outputId": "dc6b53de-fc16-43a6-a522-34ad6f9cbc64"
      },
      "execution_count": 13,
      "outputs": [
        {
          "output_type": "stream",
          "name": "stdout",
          "text": [
            "\u001b[1G\u001b[0K⠙\n",
            "Collecting usage statistics. To deactivate, set browser.gatherUsageStats to false.\n",
            "\u001b[0m\n",
            "\u001b[1G\u001b[0K⠹\u001b[1G\u001b[0K⠸\u001b[1G\u001b[0K⠼\u001b[1G\u001b[0K⠴\u001b[1G\u001b[0K⠦\u001b[1G\u001b[0K⠧\u001b[1G\u001b[0K⠇\u001b[1G\u001b[0K\u001b[0m\n",
            "\u001b[34m\u001b[1m  You can now view your Streamlit app in your browser.\u001b[0m\n",
            "\u001b[0m\n",
            "\u001b[34m  Local URL: \u001b[0m\u001b[1mhttp://localhost:8501\u001b[0m\n",
            "\u001b[34m  Network URL: \u001b[0m\u001b[1mhttp://172.28.0.12:8501\u001b[0m\n",
            "\u001b[34m  External URL: \u001b[0m\u001b[1mhttp://34.125.175.44:8501\u001b[0m\n",
            "\u001b[0m\n",
            "your url is: https://tall-teeth-switch.loca.lt\n",
            "2025-06-07 08:35:36.591277: E external/local_xla/xla/stream_executor/cuda/cuda_fft.cc:477] Unable to register cuFFT factory: Attempting to register factory for plugin cuFFT when one has already been registered\n",
            "WARNING: All log messages before absl::InitializeLog() is called are written to STDERR\n",
            "E0000 00:00:1749285336.835122   14385 cuda_dnn.cc:8310] Unable to register cuDNN factory: Attempting to register factory for plugin cuDNN when one has already been registered\n",
            "E0000 00:00:1749285336.890111   14385 cuda_blas.cc:1418] Unable to register cuBLAS factory: Attempting to register factory for plugin cuBLAS when one has already been registered\n",
            "2025-06-07 08:35:37.360896: I tensorflow/core/platform/cpu_feature_guard.cc:210] This TensorFlow binary is optimized to use available CPU instructions in performance-critical operations.\n",
            "To enable the following instructions: AVX2 AVX512F FMA, in other operations, rebuild TensorFlow with the appropriate compiler flags.\n",
            "Loading checkpoint shards: 100% 2/2 [00:00<00:00, 11.80it/s]\n",
            "2025-06-07 08:35:59.688 Examining the path of torch.classes raised:\n",
            "Traceback (most recent call last):\n",
            "  File \"/usr/local/lib/python3.11/dist-packages/streamlit/web/bootstrap.py\", line 347, in run\n",
            "    if asyncio.get_running_loop().is_running():\n",
            "       ^^^^^^^^^^^^^^^^^^^^^^^^^^\n",
            "RuntimeError: no running event loop\n",
            "\n",
            "During handling of the above exception, another exception occurred:\n",
            "\n",
            "Traceback (most recent call last):\n",
            "  File \"/usr/local/lib/python3.11/dist-packages/streamlit/watcher/local_sources_watcher.py\", line 217, in get_module_paths\n",
            "    potential_paths = extract_paths(module)\n",
            "                      ^^^^^^^^^^^^^^^^^^^^^\n",
            "  File \"/usr/local/lib/python3.11/dist-packages/streamlit/watcher/local_sources_watcher.py\", line 210, in <lambda>\n",
            "    lambda m: list(m.__path__._path),\n",
            "                   ^^^^^^^^^^^^^^^^\n",
            "  File \"/usr/local/lib/python3.11/dist-packages/torch/_classes.py\", line 13, in __getattr__\n",
            "    proxy = torch._C._get_custom_class_python_wrapper(self.name, attr)\n",
            "            ^^^^^^^^^^^^^^^^^^^^^^^^^^^^^^^^^^^^^^^^^^^^^^^^^^^^^^^^^^\n",
            "RuntimeError: Tried to instantiate class '__path__._path', but it does not exist! Ensure that it is registered via torch::class_\n",
            "The attention mask and the pad token id were not set. As a consequence, you may observe unexpected behavior. Please pass your input's `attention_mask` to obtain reliable results.\n",
            "Setting `pad_token_id` to `eos_token_id`:50256 for open-end generation.\n",
            "The attention mask is not set and cannot be inferred from input because pad token is same as eos token. As a consequence, you may observe unexpected behavior. Please pass your input's `attention_mask` to obtain reliable results.\n",
            "Loading checkpoint shards: 100% 2/2 [00:00<00:00,  5.46it/s]\n",
            "Setting `pad_token_id` to `eos_token_id`:50256 for open-end generation.\n",
            "Setting `pad_token_id` to `eos_token_id`:50256 for open-end generation.\n",
            "Loading checkpoint shards: 100% 2/2 [00:00<00:00,  9.04it/s]\n",
            "\u001b[31m──\u001b[0m\u001b[31m────────────────────────\u001b[0m\u001b[31m \u001b[0m\u001b[1;31mTraceback \u001b[0m\u001b[1;2;31m(most recent call last)\u001b[0m\u001b[31m \u001b[0m\u001b[31m─────────────────────────\u001b[0m\u001b[31m──\u001b[0m\n",
            "\u001b[31m \u001b[0m \u001b[2;33m/usr/local/lib/python3.11/dist-packages/streamlit/runtime/scriptrunner/\u001b[0m\u001b[1;33mexec_code.py\u001b[0m: \u001b[31m \u001b[0m\n",
            "\u001b[31m \u001b[0m \u001b[94m121\u001b[0m in \u001b[92mexec_func_with_error_handling\u001b[0m                                                 \u001b[31m \u001b[0m\n",
            "\u001b[31m \u001b[0m                                                                                      \u001b[31m \u001b[0m\n",
            "\u001b[31m \u001b[0m \u001b[2;33m/usr/local/lib/python3.11/dist-packages/streamlit/runtime/scriptrunner/\u001b[0m\u001b[1;33mscript_runner\u001b[0m \u001b[31m \u001b[0m\n",
            "\u001b[31m \u001b[0m \u001b[1;33m.py\u001b[0m:\u001b[94m645\u001b[0m in \u001b[92mcode_to_exec\u001b[0m                                                              \u001b[31m \u001b[0m\n",
            "\u001b[31m \u001b[0m                                                                                      \u001b[31m \u001b[0m\n",
            "\u001b[31m \u001b[0m \u001b[2;33m/content/\u001b[0m\u001b[1;33mDemo.py\u001b[0m:\u001b[94m56\u001b[0m in \u001b[92m<module>\u001b[0m                                                      \u001b[31m \u001b[0m\n",
            "\u001b[31m \u001b[0m                                                                                      \u001b[31m \u001b[0m\n",
            "\u001b[31m \u001b[0m   \u001b[2m53 \u001b[0m\u001b[2m│   │   │   \u001b[0m\u001b[33m\"\u001b[0m\u001b[33mmicrosoft/phi-2\u001b[0m\u001b[33m\"\u001b[0m,                                                  \u001b[31m \u001b[0m\n",
            "\u001b[31m \u001b[0m   \u001b[2m54 \u001b[0m\u001b[2m│   │   │   \u001b[0mtorch_dtype=torch.float16,                                          \u001b[31m \u001b[0m\n",
            "\u001b[31m \u001b[0m   \u001b[2m55 \u001b[0m\u001b[2m│   │   │   \u001b[0mlow_cpu_mem_usage=\u001b[94mTrue\u001b[0m                                              \u001b[31m \u001b[0m\n",
            "\u001b[31m \u001b[0m \u001b[31m❱ \u001b[0m56 \u001b[2m│   │   \u001b[0m).eval().\u001b[1;4mto(\u001b[0m\u001b[1;4;33m'\u001b[0m\u001b[1;4;33mcuda\u001b[0m\u001b[1;4;33m'\u001b[0m\u001b[1;4m)\u001b[0m                                                     \u001b[31m \u001b[0m\n",
            "\u001b[31m \u001b[0m   \u001b[2m57 \u001b[0m\u001b[2m│   │   \u001b[0m                                                                        \u001b[31m \u001b[0m\n",
            "\u001b[31m \u001b[0m   \u001b[2m58 \u001b[0m\u001b[2m│   │   \u001b[0mst.session_state.tokenizer = tokenizer                                  \u001b[31m \u001b[0m\n",
            "\u001b[31m \u001b[0m   \u001b[2m59 \u001b[0m\u001b[2m│   │   \u001b[0mst.session_state.model = model                                          \u001b[31m \u001b[0m\n",
            "\u001b[31m \u001b[0m                                                                                      \u001b[31m \u001b[0m\n",
            "\u001b[31m \u001b[0m \u001b[2;33m/usr/local/lib/python3.11/dist-packages/transformers/\u001b[0m\u001b[1;33mmodeling_utils.py\u001b[0m:\u001b[94m3851\u001b[0m in \u001b[92mto\u001b[0m    \u001b[31m \u001b[0m\n",
            "\u001b[31m \u001b[0m                                                                                      \u001b[31m \u001b[0m\n",
            "\u001b[31m \u001b[0m   \u001b[2m3848 \u001b[0m\u001b[2m│   │   │   │   │   \u001b[0m\u001b[33m\"\u001b[0m\u001b[33mYou cannot cast a GPTQ model in a new `dtype`. Make sure\u001b[0m \u001b[31m \u001b[0m\n",
            "\u001b[31m \u001b[0m   \u001b[2m3849 \u001b[0m\u001b[2m│   │   │   │   │   \u001b[0m\u001b[33m\"\u001b[0m\u001b[33m `dtype` by passing the correct `torch_dtype` argument.\u001b[0m\u001b[33m\"\u001b[0m \u001b[31m \u001b[0m\n",
            "\u001b[31m \u001b[0m   \u001b[2m3850 \u001b[0m\u001b[2m│   │   │   │   \u001b[0m)                                                             \u001b[31m \u001b[0m\n",
            "\u001b[31m \u001b[0m \u001b[31m❱ \u001b[0m3851 \u001b[2m│   │   \u001b[0m\u001b[94mreturn\u001b[0m \u001b[1;4;96msuper\u001b[0m\u001b[1;4m().to(*args, **kwargs)\u001b[0m                                    \u001b[31m \u001b[0m\n",
            "\u001b[31m \u001b[0m   \u001b[2m3852 \u001b[0m\u001b[2m│   \u001b[0m                                                                          \u001b[31m \u001b[0m\n",
            "\u001b[31m \u001b[0m   \u001b[2m3853 \u001b[0m\u001b[2m│   \u001b[0m\u001b[94mdef\u001b[0m\u001b[90m \u001b[0m\u001b[92mhalf\u001b[0m(\u001b[96mself\u001b[0m, *args):                                                    \u001b[31m \u001b[0m\n",
            "\u001b[31m \u001b[0m   \u001b[2m3854 \u001b[0m\u001b[2m│   │   \u001b[0m\u001b[2m# Checks if the model is quantized\u001b[0m                                    \u001b[31m \u001b[0m\n",
            "\u001b[31m \u001b[0m                                                                                      \u001b[31m \u001b[0m\n",
            "\u001b[31m \u001b[0m \u001b[2;33m/usr/local/lib/python3.11/dist-packages/torch/nn/modules/\u001b[0m\u001b[1;33mmodule.py\u001b[0m:\u001b[94m1343\u001b[0m in \u001b[92mto\u001b[0m        \u001b[31m \u001b[0m\n",
            "\u001b[31m \u001b[0m                                                                                      \u001b[31m \u001b[0m\n",
            "\u001b[31m \u001b[0m   \u001b[2m1340 \u001b[0m\u001b[2m│   │   │   │   \u001b[0m\u001b[94melse\u001b[0m:                                                         \u001b[31m \u001b[0m\n",
            "\u001b[31m \u001b[0m   \u001b[2m1341 \u001b[0m\u001b[2m│   │   │   │   │   \u001b[0m\u001b[94mraise\u001b[0m                                                     \u001b[31m \u001b[0m\n",
            "\u001b[31m \u001b[0m   \u001b[2m1342 \u001b[0m\u001b[2m│   │   \u001b[0m                                                                      \u001b[31m \u001b[0m\n",
            "\u001b[31m \u001b[0m \u001b[31m❱ \u001b[0m1343 \u001b[2m│   │   \u001b[0m\u001b[94mreturn\u001b[0m \u001b[1;4;96mself\u001b[0m\u001b[1;4m._apply(convert)\u001b[0m                                           \u001b[31m \u001b[0m\n",
            "\u001b[31m \u001b[0m   \u001b[2m1344 \u001b[0m\u001b[2m│   \u001b[0m                                                                          \u001b[31m \u001b[0m\n",
            "\u001b[31m \u001b[0m   \u001b[2m1345 \u001b[0m\u001b[2m│   \u001b[0m\u001b[94mdef\u001b[0m\u001b[90m \u001b[0m\u001b[92mregister_full_backward_pre_hook\u001b[0m(                                      \u001b[31m \u001b[0m\n",
            "\u001b[31m \u001b[0m   \u001b[2m1346 \u001b[0m\u001b[2m│   │   \u001b[0m\u001b[96mself\u001b[0m,                                                                 \u001b[31m \u001b[0m\n",
            "\u001b[31m \u001b[0m                                                                                      \u001b[31m \u001b[0m\n",
            "\u001b[31m \u001b[0m \u001b[2;33m/usr/local/lib/python3.11/dist-packages/torch/nn/modules/\u001b[0m\u001b[1;33mmodule.py\u001b[0m:\u001b[94m903\u001b[0m in \u001b[92m_apply\u001b[0m     \u001b[31m \u001b[0m\n",
            "\u001b[31m \u001b[0m                                                                                      \u001b[31m \u001b[0m\n",
            "\u001b[31m \u001b[0m   \u001b[2m 900 \u001b[0m\u001b[2m│   \u001b[0m\u001b[94mdef\u001b[0m\u001b[90m \u001b[0m\u001b[92m_apply\u001b[0m(\u001b[96mself\u001b[0m, fn, recurse=\u001b[94mTrue\u001b[0m):                                       \u001b[31m \u001b[0m\n",
            "\u001b[31m \u001b[0m   \u001b[2m 901 \u001b[0m\u001b[2m│   │   \u001b[0m\u001b[94mif\u001b[0m recurse:                                                           \u001b[31m \u001b[0m\n",
            "\u001b[31m \u001b[0m   \u001b[2m 902 \u001b[0m\u001b[2m│   │   │   \u001b[0m\u001b[94mfor\u001b[0m module \u001b[95min\u001b[0m \u001b[96mself\u001b[0m.children():                                    \u001b[31m \u001b[0m\n",
            "\u001b[31m \u001b[0m \u001b[31m❱ \u001b[0m 903 \u001b[2m│   │   │   │   \u001b[0m\u001b[1;4mmodule._apply(fn)\u001b[0m                                             \u001b[31m \u001b[0m\n",
            "\u001b[31m \u001b[0m   \u001b[2m 904 \u001b[0m\u001b[2m│   │   \u001b[0m                                                                      \u001b[31m \u001b[0m\n",
            "\u001b[31m \u001b[0m   \u001b[2m 905 \u001b[0m\u001b[2m│   │   \u001b[0m\u001b[94mdef\u001b[0m\u001b[90m \u001b[0m\u001b[92mcompute_should_use_set_data\u001b[0m(tensor, tensor_applied):              \u001b[31m \u001b[0m\n",
            "\u001b[31m \u001b[0m   \u001b[2m 906 \u001b[0m\u001b[2m│   │   │   \u001b[0m\u001b[94mif\u001b[0m torch._has_compatible_shallow_copy_type(tensor, tensor_applied \u001b[31m \u001b[0m\n",
            "\u001b[31m \u001b[0m                                                                                      \u001b[31m \u001b[0m\n",
            "\u001b[31m \u001b[0m \u001b[2;33m/usr/local/lib/python3.11/dist-packages/torch/nn/modules/\u001b[0m\u001b[1;33mmodule.py\u001b[0m:\u001b[94m903\u001b[0m in \u001b[92m_apply\u001b[0m     \u001b[31m \u001b[0m\n",
            "\u001b[31m \u001b[0m                                                                                      \u001b[31m \u001b[0m\n",
            "\u001b[31m \u001b[0m   \u001b[2m 900 \u001b[0m\u001b[2m│   \u001b[0m\u001b[94mdef\u001b[0m\u001b[90m \u001b[0m\u001b[92m_apply\u001b[0m(\u001b[96mself\u001b[0m, fn, recurse=\u001b[94mTrue\u001b[0m):                                       \u001b[31m \u001b[0m\n",
            "\u001b[31m \u001b[0m   \u001b[2m 901 \u001b[0m\u001b[2m│   │   \u001b[0m\u001b[94mif\u001b[0m recurse:                                                           \u001b[31m \u001b[0m\n",
            "\u001b[31m \u001b[0m   \u001b[2m 902 \u001b[0m\u001b[2m│   │   │   \u001b[0m\u001b[94mfor\u001b[0m module \u001b[95min\u001b[0m \u001b[96mself\u001b[0m.children():                                    \u001b[31m \u001b[0m\n",
            "\u001b[31m \u001b[0m \u001b[31m❱ \u001b[0m 903 \u001b[2m│   │   │   │   \u001b[0m\u001b[1;4mmodule._apply(fn)\u001b[0m                                             \u001b[31m \u001b[0m\n",
            "\u001b[31m \u001b[0m   \u001b[2m 904 \u001b[0m\u001b[2m│   │   \u001b[0m                                                                      \u001b[31m \u001b[0m\n",
            "\u001b[31m \u001b[0m   \u001b[2m 905 \u001b[0m\u001b[2m│   │   \u001b[0m\u001b[94mdef\u001b[0m\u001b[90m \u001b[0m\u001b[92mcompute_should_use_set_data\u001b[0m(tensor, tensor_applied):              \u001b[31m \u001b[0m\n",
            "\u001b[31m \u001b[0m   \u001b[2m 906 \u001b[0m\u001b[2m│   │   │   \u001b[0m\u001b[94mif\u001b[0m torch._has_compatible_shallow_copy_type(tensor, tensor_applied \u001b[31m \u001b[0m\n",
            "\u001b[31m \u001b[0m                                                                                      \u001b[31m \u001b[0m\n",
            "\u001b[31m \u001b[0m \u001b[2;33m/usr/local/lib/python3.11/dist-packages/torch/nn/modules/\u001b[0m\u001b[1;33mmodule.py\u001b[0m:\u001b[94m903\u001b[0m in \u001b[92m_apply\u001b[0m     \u001b[31m \u001b[0m\n",
            "\u001b[31m \u001b[0m                                                                                      \u001b[31m \u001b[0m\n",
            "\u001b[31m \u001b[0m   \u001b[2m 900 \u001b[0m\u001b[2m│   \u001b[0m\u001b[94mdef\u001b[0m\u001b[90m \u001b[0m\u001b[92m_apply\u001b[0m(\u001b[96mself\u001b[0m, fn, recurse=\u001b[94mTrue\u001b[0m):                                       \u001b[31m \u001b[0m\n",
            "\u001b[31m \u001b[0m   \u001b[2m 901 \u001b[0m\u001b[2m│   │   \u001b[0m\u001b[94mif\u001b[0m recurse:                                                           \u001b[31m \u001b[0m\n",
            "\u001b[31m \u001b[0m   \u001b[2m 902 \u001b[0m\u001b[2m│   │   │   \u001b[0m\u001b[94mfor\u001b[0m module \u001b[95min\u001b[0m \u001b[96mself\u001b[0m.children():                                    \u001b[31m \u001b[0m\n",
            "\u001b[31m \u001b[0m \u001b[31m❱ \u001b[0m 903 \u001b[2m│   │   │   │   \u001b[0m\u001b[1;4mmodule._apply(fn)\u001b[0m                                             \u001b[31m \u001b[0m\n",
            "\u001b[31m \u001b[0m   \u001b[2m 904 \u001b[0m\u001b[2m│   │   \u001b[0m                                                                      \u001b[31m \u001b[0m\n",
            "\u001b[31m \u001b[0m   \u001b[2m 905 \u001b[0m\u001b[2m│   │   \u001b[0m\u001b[94mdef\u001b[0m\u001b[90m \u001b[0m\u001b[92mcompute_should_use_set_data\u001b[0m(tensor, tensor_applied):              \u001b[31m \u001b[0m\n",
            "\u001b[31m \u001b[0m   \u001b[2m 906 \u001b[0m\u001b[2m│   │   │   \u001b[0m\u001b[94mif\u001b[0m torch._has_compatible_shallow_copy_type(tensor, tensor_applied \u001b[31m \u001b[0m\n",
            "\u001b[31m \u001b[0m                                                                                      \u001b[31m \u001b[0m\n",
            "\u001b[31m \u001b[0m \u001b[2;33m/usr/local/lib/python3.11/dist-packages/torch/nn/modules/\u001b[0m\u001b[1;33mmodule.py\u001b[0m:\u001b[94m903\u001b[0m in \u001b[92m_apply\u001b[0m     \u001b[31m \u001b[0m\n",
            "\u001b[31m \u001b[0m                                                                                      \u001b[31m \u001b[0m\n",
            "\u001b[31m \u001b[0m   \u001b[2m 900 \u001b[0m\u001b[2m│   \u001b[0m\u001b[94mdef\u001b[0m\u001b[90m \u001b[0m\u001b[92m_apply\u001b[0m(\u001b[96mself\u001b[0m, fn, recurse=\u001b[94mTrue\u001b[0m):                                       \u001b[31m \u001b[0m\n",
            "\u001b[31m \u001b[0m   \u001b[2m 901 \u001b[0m\u001b[2m│   │   \u001b[0m\u001b[94mif\u001b[0m recurse:                                                           \u001b[31m \u001b[0m\n",
            "\u001b[31m \u001b[0m   \u001b[2m 902 \u001b[0m\u001b[2m│   │   │   \u001b[0m\u001b[94mfor\u001b[0m module \u001b[95min\u001b[0m \u001b[96mself\u001b[0m.children():                                    \u001b[31m \u001b[0m\n",
            "\u001b[31m \u001b[0m \u001b[31m❱ \u001b[0m 903 \u001b[2m│   │   │   │   \u001b[0m\u001b[1;4mmodule._apply(fn)\u001b[0m                                             \u001b[31m \u001b[0m\n",
            "\u001b[31m \u001b[0m   \u001b[2m 904 \u001b[0m\u001b[2m│   │   \u001b[0m                                                                      \u001b[31m \u001b[0m\n",
            "\u001b[31m \u001b[0m   \u001b[2m 905 \u001b[0m\u001b[2m│   │   \u001b[0m\u001b[94mdef\u001b[0m\u001b[90m \u001b[0m\u001b[92mcompute_should_use_set_data\u001b[0m(tensor, tensor_applied):              \u001b[31m \u001b[0m\n",
            "\u001b[31m \u001b[0m   \u001b[2m 906 \u001b[0m\u001b[2m│   │   │   \u001b[0m\u001b[94mif\u001b[0m torch._has_compatible_shallow_copy_type(tensor, tensor_applied \u001b[31m \u001b[0m\n",
            "\u001b[31m \u001b[0m                                                                                      \u001b[31m \u001b[0m\n",
            "\u001b[31m \u001b[0m \u001b[2;33m/usr/local/lib/python3.11/dist-packages/torch/nn/modules/\u001b[0m\u001b[1;33mmodule.py\u001b[0m:\u001b[94m903\u001b[0m in \u001b[92m_apply\u001b[0m     \u001b[31m \u001b[0m\n",
            "\u001b[31m \u001b[0m                                                                                      \u001b[31m \u001b[0m\n",
            "\u001b[31m \u001b[0m   \u001b[2m 900 \u001b[0m\u001b[2m│   \u001b[0m\u001b[94mdef\u001b[0m\u001b[90m \u001b[0m\u001b[92m_apply\u001b[0m(\u001b[96mself\u001b[0m, fn, recurse=\u001b[94mTrue\u001b[0m):                                       \u001b[31m \u001b[0m\n",
            "\u001b[31m \u001b[0m   \u001b[2m 901 \u001b[0m\u001b[2m│   │   \u001b[0m\u001b[94mif\u001b[0m recurse:                                                           \u001b[31m \u001b[0m\n",
            "\u001b[31m \u001b[0m   \u001b[2m 902 \u001b[0m\u001b[2m│   │   │   \u001b[0m\u001b[94mfor\u001b[0m module \u001b[95min\u001b[0m \u001b[96mself\u001b[0m.children():                                    \u001b[31m \u001b[0m\n",
            "\u001b[31m \u001b[0m \u001b[31m❱ \u001b[0m 903 \u001b[2m│   │   │   │   \u001b[0m\u001b[1;4mmodule._apply(fn)\u001b[0m                                             \u001b[31m \u001b[0m\n",
            "\u001b[31m \u001b[0m   \u001b[2m 904 \u001b[0m\u001b[2m│   │   \u001b[0m                                                                      \u001b[31m \u001b[0m\n",
            "\u001b[31m \u001b[0m   \u001b[2m 905 \u001b[0m\u001b[2m│   │   \u001b[0m\u001b[94mdef\u001b[0m\u001b[90m \u001b[0m\u001b[92mcompute_should_use_set_data\u001b[0m(tensor, tensor_applied):              \u001b[31m \u001b[0m\n",
            "\u001b[31m \u001b[0m   \u001b[2m 906 \u001b[0m\u001b[2m│   │   │   \u001b[0m\u001b[94mif\u001b[0m torch._has_compatible_shallow_copy_type(tensor, tensor_applied \u001b[31m \u001b[0m\n",
            "\u001b[31m \u001b[0m                                                                                      \u001b[31m \u001b[0m\n",
            "\u001b[31m \u001b[0m \u001b[2;33m/usr/local/lib/python3.11/dist-packages/torch/nn/modules/\u001b[0m\u001b[1;33mmodule.py\u001b[0m:\u001b[94m930\u001b[0m in \u001b[92m_apply\u001b[0m     \u001b[31m \u001b[0m\n",
            "\u001b[31m \u001b[0m                                                                                      \u001b[31m \u001b[0m\n",
            "\u001b[31m \u001b[0m   \u001b[2m 927 \u001b[0m\u001b[2m│   │   │   \u001b[0m\u001b[2m# track autograd history of `param_applied`, so we have to use\u001b[0m    \u001b[31m \u001b[0m\n",
            "\u001b[31m \u001b[0m   \u001b[2m 928 \u001b[0m\u001b[2m│   │   │   \u001b[0m\u001b[2m# `with torch.no_grad():`\u001b[0m                                         \u001b[31m \u001b[0m\n",
            "\u001b[31m \u001b[0m   \u001b[2m 929 \u001b[0m\u001b[2m│   │   │   \u001b[0m\u001b[94mwith\u001b[0m torch.no_grad():                                             \u001b[31m \u001b[0m\n",
            "\u001b[31m \u001b[0m \u001b[31m❱ \u001b[0m 930 \u001b[2m│   │   │   │   \u001b[0mparam_applied = \u001b[1;4mfn(param)\u001b[0m                                     \u001b[31m \u001b[0m\n",
            "\u001b[31m \u001b[0m   \u001b[2m 931 \u001b[0m\u001b[2m│   │   │   \u001b[0mp_should_use_set_data = compute_should_use_set_data(param, param_ \u001b[31m \u001b[0m\n",
            "\u001b[31m \u001b[0m   \u001b[2m 932 \u001b[0m\u001b[2m│   │   │   \u001b[0m                                                                  \u001b[31m \u001b[0m\n",
            "\u001b[31m \u001b[0m   \u001b[2m 933 \u001b[0m\u001b[2m│   │   │   \u001b[0m\u001b[2m# subclasses may have multiple child tensors so we need to use sw\u001b[0m \u001b[31m \u001b[0m\n",
            "\u001b[31m \u001b[0m                                                                                      \u001b[31m \u001b[0m\n",
            "\u001b[31m \u001b[0m \u001b[2;33m/usr/local/lib/python3.11/dist-packages/torch/nn/modules/\u001b[0m\u001b[1;33mmodule.py\u001b[0m:\u001b[94m1329\u001b[0m in \u001b[92mconvert\u001b[0m   \u001b[31m \u001b[0m\n",
            "\u001b[31m \u001b[0m                                                                                      \u001b[31m \u001b[0m\n",
            "\u001b[31m \u001b[0m   \u001b[2m1326 \u001b[0m\u001b[2m│   │   │   │   │   │   \u001b[0mnon_blocking,                                         \u001b[31m \u001b[0m\n",
            "\u001b[31m \u001b[0m   \u001b[2m1327 \u001b[0m\u001b[2m│   │   │   │   │   │   \u001b[0mmemory_format=convert_to_format,                      \u001b[31m \u001b[0m\n",
            "\u001b[31m \u001b[0m   \u001b[2m1328 \u001b[0m\u001b[2m│   │   │   │   │   \u001b[0m)                                                         \u001b[31m \u001b[0m\n",
            "\u001b[31m \u001b[0m \u001b[31m❱ \u001b[0m1329 \u001b[2m│   │   │   │   \u001b[0m\u001b[94mreturn\u001b[0m t.to(                                                  \u001b[31m \u001b[0m\n",
            "\u001b[31m \u001b[0m   \u001b[2m1330 \u001b[0m\u001b[2m│   │   │   │   │   \u001b[0mdevice,                                                   \u001b[31m \u001b[0m\n",
            "\u001b[31m \u001b[0m   \u001b[2m1331 \u001b[0m\u001b[2m│   │   │   │   │   \u001b[0mdtype \u001b[94mif\u001b[0m t.is_floating_point() \u001b[95mor\u001b[0m t.is_complex() \u001b[94melse\u001b[0m \u001b[94mNon\u001b[0m \u001b[31m \u001b[0m\n",
            "\u001b[31m \u001b[0m   \u001b[2m1332 \u001b[0m\u001b[2m│   │   │   │   │   \u001b[0mnon_blocking,                                             \u001b[31m \u001b[0m\n",
            "\u001b[31m────────────────────────────────────────────────────────────────────────────────────────\u001b[0m\n",
            "\u001b[1;91mOutOfMemoryError: \u001b[0mCUDA out of memory. Tried to allocate \u001b[1;36m50.00\u001b[0m MiB. GPU \u001b[1;36m0\u001b[0m has a total \n",
            "capacity of \u001b[1;36m14.74\u001b[0m GiB of which \u001b[1;36m10.12\u001b[0m MiB is free. Process \u001b[1;36m213109\u001b[0m has \u001b[1;36m14.73\u001b[0m GiB memory in\n",
            "use. Of the allocated memory \u001b[1;36m14.08\u001b[0m GiB is allocated by PyTorch, and \u001b[1;36m540.95\u001b[0m MiB is \n",
            "reserved by PyTorch but unallocated. If reserved but unallocated memory is large try \n",
            "setting \u001b[33mPYTORCH_CUDA_ALLOC_CONF\u001b[0m=\u001b[35mexpandable_segments\u001b[0m:\u001b[3;92mTrue\u001b[0m to avoid fragmentation.  See \n",
            "documentation for Memory Management  \n",
            "\u001b[1m(\u001b[0m\u001b[4;94mhttps://pytorch.org/docs/stable/notes/cuda.html#environment-variables\u001b[0m\u001b[4;94m)\u001b[0m\n",
            "2025-06-07 08:40:02.797 Examining the path of torch.classes raised:\n",
            "Traceback (most recent call last):\n",
            "  File \"/usr/local/lib/python3.11/dist-packages/streamlit/web/bootstrap.py\", line 347, in run\n",
            "    if asyncio.get_running_loop().is_running():\n",
            "       ^^^^^^^^^^^^^^^^^^^^^^^^^^\n",
            "RuntimeError: no running event loop\n",
            "\n",
            "During handling of the above exception, another exception occurred:\n",
            "\n",
            "Traceback (most recent call last):\n",
            "  File \"/usr/local/lib/python3.11/dist-packages/streamlit/watcher/local_sources_watcher.py\", line 217, in get_module_paths\n",
            "    potential_paths = extract_paths(module)\n",
            "                      ^^^^^^^^^^^^^^^^^^^^^\n",
            "  File \"/usr/local/lib/python3.11/dist-packages/streamlit/watcher/local_sources_watcher.py\", line 210, in <lambda>\n",
            "    lambda m: list(m.__path__._path),\n",
            "                   ^^^^^^^^^^^^^^^^\n",
            "  File \"/usr/local/lib/python3.11/dist-packages/torch/_classes.py\", line 13, in __getattr__\n",
            "    proxy = torch._C._get_custom_class_python_wrapper(self.name, attr)\n",
            "            ^^^^^^^^^^^^^^^^^^^^^^^^^^^^^^^^^^^^^^^^^^^^^^^^^^^^^^^^^^\n",
            "RuntimeError: Tried to instantiate class '__path__._path', but it does not exist! Ensure that it is registered via torch::class_\n",
            "\u001b[34m  Stopping...\u001b[0m\n",
            "^C\n"
          ]
        }
      ]
    },
    {
      "cell_type": "code",
      "source": [],
      "metadata": {
        "id": "nt4rzTfLp7lL"
      },
      "execution_count": null,
      "outputs": []
    },
    {
      "cell_type": "code",
      "source": [
        "# !cloudflared tunnel --url http://localhost:8502 --no-autoupdate\n"
      ],
      "metadata": {
        "id": "jOMv_L0lSuIR"
      },
      "execution_count": 17,
      "outputs": []
    },
    {
      "cell_type": "code",
      "source": [
        "# !ngrok config add-authtoken 2xnUd2dz6AmCRaWs4T8MY1EWAEX_4oFgeBj4RrE4nMxUDh61W\n"
      ],
      "metadata": {
        "id": "sgq942viRrJL"
      },
      "execution_count": 16,
      "outputs": []
    },
    {
      "cell_type": "code",
      "execution_count": 15,
      "metadata": {
        "id": "ZELxAgewCxKt"
      },
      "outputs": [],
      "source": [
        "# !streamlit run Demo.py --server.port 8502 & ngrok http 8502\n"
      ]
    },
    {
      "cell_type": "code",
      "source": [
        "# ngrok http 8502\n"
      ],
      "metadata": {
        "id": "tVpj-oIuQpIy"
      },
      "execution_count": 14,
      "outputs": []
    }
  ],
  "metadata": {
    "colab": {
      "provenance": [],
      "gpuType": "T4"
    },
    "kernelspec": {
      "display_name": "Python 3",
      "name": "python3"
    },
    "language_info": {
      "name": "python"
    },
    "accelerator": "GPU"
  },
  "nbformat": 4,
  "nbformat_minor": 0
}